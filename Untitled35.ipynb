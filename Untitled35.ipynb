{
 "cells": [
  {
   "cell_type": "markdown",
   "id": "3778452f",
   "metadata": {},
   "source": [
    "# Assignment 1"
   ]
  },
  {
   "cell_type": "code",
   "execution_count": null,
   "id": "1a4ac458",
   "metadata": {},
   "outputs": [],
   "source": [
    "1. In the below elements which of them are values or an expression? eg:- values can be\n",
    "integer or string and expressions will be mathematical operators.\n",
    "*\n",
    "'hello'\n",
    "-87.8\n",
    "-\n",
    "/\n",
    "+\n",
    "6\n",
    "\n",
    "* is used for maltiplication for example : 2*2=4\n",
    "'hello'   is the string  \n",
    "-87.8 is flooting point number with nagative indecation\n",
    "- nagative\n",
    "/  division\n",
    "+ addition\n",
    "\n"
   ]
  },
  {
   "cell_type": "code",
   "execution_count": null,
   "id": "5235d4ec",
   "metadata": {},
   "outputs": [],
   "source": [
    "2.What is the difference between string and variable?\n",
    "\n",
    "string is a type of information you would store in a variable.example / \"iam hari\" by using single code,double and triple code\n",
    "variable is a store of information a= 6 : a is variable"
   ]
  },
  {
   "cell_type": "code",
   "execution_count": null,
   "id": "ba7bd19f",
   "metadata": {},
   "outputs": [],
   "source": [
    "3.Describe three different data types.\n",
    "\n",
    "Numeric data Types:int, float, complex\n",
    "Sequence  dataTypes:list, tuple, range\n",
    "Mapping  dataType: dict"
   ]
  },
  {
   "cell_type": "code",
   "execution_count": null,
   "id": "70e27602",
   "metadata": {},
   "outputs": [],
   "source": [
    "4.What is an expression made up of? What do all expressions do?\n",
    "\n",
    "Expression is made up of values, containers, and mathematical operators (operands) e.g a = 5-9\n",
    "and expressions are used to evaluate the values or represent the result on the screen."
   ]
  },
  {
   "cell_type": "code",
   "execution_count": null,
   "id": "dc8d8e24",
   "metadata": {},
   "outputs": [],
   "source": [
    "5.This assignment statements, like spam = 10. What is the difference between an\n",
    "expression and a statement?\n",
    "\n",
    "\n",
    "spam = 10\n",
    "expression is = to indicate how much value\n",
    "statement  is spam assign a value of 10 "
   ]
  },
  {
   "cell_type": "code",
   "execution_count": null,
   "id": "eaaf8fe9",
   "metadata": {},
   "outputs": [],
   "source": [
    "6.After running the following code, what does the variable bacon contain?\n",
    "bacon = 22\n",
    "bacon + 1"
   ]
  },
  {
   "cell_type": "code",
   "execution_count": 1,
   "id": "9b66a496",
   "metadata": {},
   "outputs": [
    {
     "data": {
      "text/plain": [
       "23"
      ]
     },
     "execution_count": 1,
     "metadata": {},
     "output_type": "execute_result"
    }
   ],
   "source": [
    "bacon = 22\n",
    "bacon+1"
   ]
  },
  {
   "cell_type": "raw",
   "id": "19b5643d",
   "metadata": {},
   "source": [
    "7.What should the values of the following two terms be?\n",
    "'spam'+'spamspam'\n",
    "'spam'*3"
   ]
  },
  {
   "cell_type": "code",
   "execution_count": 3,
   "id": "df4cdf2d",
   "metadata": {},
   "outputs": [
    {
     "data": {
      "text/plain": [
       "'spamspamspam'"
      ]
     },
     "execution_count": 3,
     "metadata": {},
     "output_type": "execute_result"
    }
   ],
   "source": [
    "'spam'+'spamspam'\n"
   ]
  },
  {
   "cell_type": "code",
   "execution_count": 4,
   "id": "6e13b26d",
   "metadata": {},
   "outputs": [
    {
     "data": {
      "text/plain": [
       "'spamspamspam'"
      ]
     },
     "execution_count": 4,
     "metadata": {},
     "output_type": "execute_result"
    }
   ],
   "source": [
    "\n",
    "'spam'*3"
   ]
  },
  {
   "cell_type": "raw",
   "id": "aded93dc",
   "metadata": {},
   "source": [
    "8.Why is eggs a valid variable name while 100 is invalid?\n",
    "\n",
    "In a variable there is a some rules to follow\n",
    "A variable name must start with a letter or the underscore character\n",
    "A variable name cannot start with a number\n",
    "A variable name can only contain alpha-numeric characters and underscores (A-z, 0-9, and _ )\n",
    "Variable names are case-sensitive (age, Age and AGE are three different variables)"
   ]
  },
  {
   "cell_type": "code",
   "execution_count": null,
   "id": "fe99c314",
   "metadata": {},
   "outputs": [],
   "source": [
    "9.What three functions can be used to get the integer, floating-point number, or string\n",
    "version of a value?\n",
    "int( ) integer: example 4\n",
    "float()  floating_point number \\example 20.00  \n",
    "str()  string \"the string\""
   ]
  },
  {
   "cell_type": "code",
   "execution_count": null,
   "id": "511c0ee8",
   "metadata": {},
   "outputs": [],
   "source": [
    "10.Why does this expression cause an error? How can you fix it?\n",
    "'i have eaten'+99+'burritos'\n",
    "\n"
   ]
  },
  {
   "cell_type": "code",
   "execution_count": 6,
   "id": "459037ab",
   "metadata": {},
   "outputs": [
    {
     "data": {
      "text/plain": [
       "'i have eaten99burritos'"
      ]
     },
     "execution_count": 6,
     "metadata": {},
     "output_type": "execute_result"
    }
   ],
   "source": [
    "'i have eaten'+'99'+'burritos'"
   ]
  },
  {
   "cell_type": "code",
   "execution_count": null,
   "id": "be3c36be",
   "metadata": {},
   "outputs": [],
   "source": []
  }
 ],
 "metadata": {
  "kernelspec": {
   "display_name": "Python 3",
   "language": "python",
   "name": "python3"
  },
  "language_info": {
   "codemirror_mode": {
    "name": "ipython",
    "version": 3
   },
   "file_extension": ".py",
   "mimetype": "text/x-python",
   "name": "python",
   "nbconvert_exporter": "python",
   "pygments_lexer": "ipython3",
   "version": "3.8.8"
  }
 },
 "nbformat": 4,
 "nbformat_minor": 5
}
